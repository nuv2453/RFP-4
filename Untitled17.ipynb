{
 "cells": [
  {
   "cell_type": "code",
   "execution_count": 3,
   "id": "b0cc45a0",
   "metadata": {},
   "outputs": [],
   "source": [
    "import pandas as pd\n",
    "from sklearn.model_selection import train_test_split\n",
    "from sklearn.naive_bayes import GaussianNB\n",
    "\n",
    "data = pd.read_csv(\"your_dataset.csv\")\n",
    "\n",
    "data_2016 = data[data['year'] == 2016]\n",
    "\n",
    "X = data_2016[['candidatevotes', 'totalvotes']]\n",
    "y = data_2016['party_simplified']\n",
    "\n",
    "X_train, X_test, y_train, y_test = train_test_split(X, y, test_size=0.2, random_state=42)\n",
    "\n",
    "threshold = 0.5\n",
    "y_train_discrete = (y_train == 'REPUBLICAN').astype(int)\n",
    "\n",
    "model = GaussianNB()\n",
    "model.fit(X_train, y_train_discrete)\n",
    "\n",
    "predictions = model.predict(X_test)\n"
   ]
  },
  {
   "cell_type": "code",
   "execution_count": null,
   "id": "a2520ea3",
   "metadata": {},
   "outputs": [],
   "source": []
  }
 ],
 "metadata": {
  "kernelspec": {
   "display_name": "Python 3 (ipykernel)",
   "language": "python",
   "name": "python3"
  },
  "language_info": {
   "codemirror_mode": {
    "name": "ipython",
    "version": 3
   },
   "file_extension": ".py",
   "mimetype": "text/x-python",
   "name": "python",
   "nbconvert_exporter": "python",
   "pygments_lexer": "ipython3",
   "version": "3.11.4"
  }
 },
 "nbformat": 4,
 "nbformat_minor": 5
}
