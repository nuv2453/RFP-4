{
 "cells": [
  {
   "cell_type": "code",
   "execution_count": null,
   "id": "24276f08",
   "metadata": {},
   "outputs": [],
   "source": [
    "import pandas as pd\n",
    "from sklearn.model_selection import train_test_split\n",
    "from sklearn.naive_bayes import GaussianNB\n",
    "from sklearn.metrics import accuracy_score\n",
    "from sklearn.preprocessing import LabelEncoder\n",
    "\n",
    "\n",
    "data = pd.read_csv(\"1976-2020-president.csv\")\n",
    "\n",
    "\n",
    "data_2016 = data[data['year'] == 2016]\n",
    "\n",
    "\n",
    "X = data_2016[['totalvotes', 'party_simplified']]\n",
    "y = data_2016['candidate']\n",
    "\n",
    "\n",
    "label_encoder = LabelEncoder()\n",
    "X['party_simplified'] = label_encoder.fit_transform(X['party_simplified'])\n",
    "\n",
    "\n",
    "X_train, X_test, y_train, y_test = train_test_split(X, y, test_size=0.2, random_state=42)\n",
    "\n",
    "\n",
    "nb_classifier = GaussianNB()\n",
    "nb_classifier.fit(X_train, y_train)\n",
    "\n",
    "\n",
    "y_pred = nb_classifier.predict(X_test)\n",
    "\n",
    "\n",
    "accuracy = accuracy_score(y_test, y_pred)\n",
    "print(\"Accuracy:\", accuracy)\n",
    "\n",
    "\n",
    "total_votes = 1000000  \n",
    "party_simplified = 'Democratic'  \n",
    "\n",
    "predicted_winner = nb_classifier.predict([[total_votes, label_encoder.transform([party_simplified])[0]]])\n",
    "print(\"Predicted winner for 2024 presidential election:\", predicted_winner[0])\n"
   ]
  }
 ],
 "metadata": {
  "kernelspec": {
   "display_name": "Python 3 (ipykernel)",
   "language": "python",
   "name": "python3"
  },
  "language_info": {
   "codemirror_mode": {
    "name": "ipython",
    "version": 3
   },
   "file_extension": ".py",
   "mimetype": "text/x-python",
   "name": "python",
   "nbconvert_exporter": "python",
   "pygments_lexer": "ipython3",
   "version": "3.11.4"
  }
 },
 "nbformat": 4,
 "nbformat_minor": 5
}
